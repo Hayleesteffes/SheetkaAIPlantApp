{
 "cells": [
  {
   "cell_type": "markdown",
   "metadata": {},
   "source": [
    "# Python Fundamentals\n",
    "Welcome to your first real Python programming lesson! We'll learn the core concepts that make up all Python programs - variables, data types, and basic operations.\n",
    "\n",
    "## **Learning Objectives**:\n",
    "- Write your first Python programs\n",
    "- Understand variables and how to use them\n",
    "- Work with different data types (text, numbers, True/False)\n",
    "- Perform basic math and text operations\n",
    "- Get comfortable with Python syntax and errors\n",
    "- Build a foundation for more complex programming\n",
    "\n",
    "* * * * *"
   ]
  },
  {
   "cell_type": "markdown",
   "metadata": {},
   "source": [
    "## Your First Python Programs\n",
    "\n",
    "Let's start with the classic \"Hello, World!\" program. This is traditionally the first program people write when learning a new language.\n",
    "\n",
    "Python programs are made up of **statements** - instructions that tell the computer what to do."
   ]
  },
  {
   "cell_type": "code",
   "execution_count": null,
   "metadata": {},
   "outputs": [],
   "source": [
    "print(\"Hello, World!\")"
   ]
  },
  {
   "cell_type": "markdown",
   "metadata": {},
   "source": [
    "Congratulations! You just wrote a Python program. The `print()` function displays text on the screen.\n",
    "\n",
    "**Key concepts:**\n",
    "- `print()` is a **function** - a piece of code that does something specific\n",
    "- The text inside quotes is called a **string**\n",
    "- The parentheses `()` are required for functions\n",
    "\n",
    "**Try it yourself**: In the cell below, write a print statement with your own message:"
   ]
  },
  {
   "cell_type": "code",
   "execution_count": null,
   "metadata": {},
   "outputs": [],
   "source": [
    "# Write your own print statement here\n"
   ]
  },
  {
   "cell_type": "markdown",
   "metadata": {},
   "source": [
    "## Understanding Variables\n",
    "\n",
    "Variables are like labeled containers where we can store information. Think of them as giving names to pieces of data so we can use them later.\n",
    "\n",
    "**Why use variables?**\n",
    "- Store information to use multiple times\n",
    "- Make code easier to understand\n",
    "- Make code easier to change"
   ]
  },
  {
   "cell_type": "markdown",
   "metadata": {},
   "source": [
    "# Creating variables - assignment with =\n",
    "my_name = \"Alex\"\n",
    "my_age = 16\n",
    "favorite_subject = \"Computer Science\"\n",
    "\n",
    "# Using variables in print statements\n",
    "print(my_name)\n",
    "print(my_age)\n",
    "print(favorite_subject)"
   ]
  },
  {
   "cell_type": "markdown",
   "metadata": {},
   "source": [
    "**Variable Naming Rules:**\n",
    "- Must start with a letter or underscore\n",
    "- Can contain letters, numbers, and underscores\n",
    "- Cannot contain spaces or special characters\n",
    "- Case sensitive (`name` and `Name` are different)\n",
    "\n",
    "**Good variable names:**\n",
    "- `student_name` (descriptive)\n",
    "- `age` (clear)\n",
    "- `total_score` (uses underscore for spaces)\n",
    "\n",
    "**Bad variable names:**\n",
    "- `x` (not descriptive)\n",
    "- `2names` (starts with number)\n",
    "- `my name` (contains space)"
   ]
  },
  {
   "cell_type": "code",
   "execution_count": null,
   "metadata": {},
   "outputs": [],
   "source": [
    "# Combining variables with text using f-strings\n",
    "print(f\"Hi! My name is {my_name} and I am {my_age} years old.\")\n",
    "print(f\"My favorite subject is {favorite_subject}.\")\n",
    "\n",
    "# Variables can be changed (they're \"variable\"!)\n",
    "my_age = 17\n",
    "print(f\"Next year I will be {my_age} years old.\")"
   ]
  },
  {
   "cell_type": "markdown",
   "metadata": {},
   "source": [
    "**Try it yourself**: Create variables for your own information and print an introduction. Use good variable names!"
   ]
  },
  {
   "cell_type": "code",
   "execution_count": null,
   "metadata": {},
   "outputs": [],
   "source": [
    "# Create your own variables here\n",
    "# Then print an introduction about yourself\n"
   ]
  },
  {
   "cell_type": "markdown",
   "metadata": {},
   "source": [
    "## Data Types: Different Kinds of Information\n",
    "\n",
    "Python works with different **types** of data. Here are the main ones you'll use:\n",
    "\n",
    "### Strings (Text)\n",
    "Text is called a \"string\" in programming because it's a string of characters."
   ]
  },
  {
   "cell_type": "code",
   "execution_count": null,
   "metadata": {},
   "outputs": [],
   "source": [
    "# Strings - always in quotes\n",
    "first_name = \"Maria\"\n",
    "last_name = \"Garcia\"\n",
    "message = \"Hello, world!\"\n",
    "empty_string = \"\"\n",
    "\n",
    "# You can use single or double quotes\n",
    "city = 'Denver'\n",
    "state = \"Colorado\"\n",
    "\n",
    "print(first_name)\n",
    "print(f\"I live in {city}, {state}\")"
   ]
  },
  {
   "cell_type": "markdown",
   "metadata": {},
   "source": [
    "### Integers (Whole Numbers)\n",
    "Integers are whole numbers - no decimal point."
   ]
  },
  {
   "cell_type": "code",
   "execution_count": null,
   "metadata": {},
   "outputs": [],
   "source": [
    "# Integers - whole numbers\n",
    "age = 16\n",
    "number_of_pets = 2\n",
    "year = 2024\n",
    "negative_number = -5\n",
    "\n",
    "print(age)\n",
    "print(f\"I have {number_of_pets} pets\")\n",
    "print(f\"The year is {year}\")"
   ]
  },
  {
   "cell_type": "markdown",
   "metadata": {},
   "source": [
    "### Floats (Decimal Numbers)\n",
    "Floats are numbers with decimal points."
   ]
  },
  {
   "cell_type": "code",
   "execution_count": 1,
   "metadata": {},
   "outputs": [
    {
     "name": "stdout",
     "output_type": "stream",
     "text": [
      "I am 5.8 feet tall\n",
      "The temperature is 72.5 degrees\n",
      "This costs $19.99\n"
     ]
    }
   ],
   "source": [
    "# Floats - decimal numbers\n",
    "height = 5.8\n",
    "temperature = 72.5\n",
    "price = 19.99\n",
    "pi = 3.14159\n",
    "\n",
    "print(f\"I am {height} feet tall\")\n",
    "print(f\"The temperature is {temperature} degrees\")\n",
    "print(f\"This costs ${price}\")"
   ]
  },
  {
   "cell_type": "markdown",
   "metadata": {},
   "source": [
    "### Booleans (True/False)\n",
    "Booleans represent truth values - either `True` or `False`."
   ]
  },
  {
   "cell_type": "code",
   "execution_count": 2,
   "metadata": {},
   "outputs": [
    {
     "name": "stdout",
     "output_type": "stream",
     "text": [
      "Am I a student? True\n",
      "Do I have homework? False\n",
      "Do I like pizza? True\n"
     ]
    }
   ],
   "source": [
    "# Booleans - True or False\n",
    "is_student = True\n",
    "has_homework = False\n",
    "likes_pizza = True\n",
    "\n",
    "print(f\"Am I a student? {is_student}\")\n",
    "print(f\"Do I have homework? {has_homework}\")\n",
    "print(f\"Do I like pizza? {likes_pizza}\")"
   ]
  },
  {
   "cell_type": "markdown",
   "metadata": {},
   "source": [
    "## Working with Numbers: Math Operations\n",
    "\n",
    "Python can do math just like a calculator - and much more!"
   ]
  },
  {
   "cell_type": "code",
   "execution_count": 3,
   "metadata": {},
   "outputs": [
    {
     "name": "stdout",
     "output_type": "stream",
     "text": [
      "Addition: 8\n",
      "Subtraction: 6\n",
      "Multiplication: 42\n",
      "Division: 5.0\n",
      "Exponents (power): 256\n",
      "Floor division: 3\n",
      "Remainder (modulo): 2\n"
     ]
    }
   ],
   "source": [
    "# Basic math operations\n",
    "print(\"Addition:\", 5 + 3)\n",
    "print(\"Subtraction:\", 10 - 4)\n",
    "print(\"Multiplication:\", 6 * 7)\n",
    "print(\"Division:\", 15 / 3)\n",
    "\n",
    "# More advanced operations\n",
    "print(\"Exponents (power):\", 2 ** 8)  # 2 to the 8th power\n",
    "print(\"Floor division:\", 17 // 5)     # Division without remainder\n",
    "print(\"Remainder (modulo):\", 17 % 5)  # What's left over after division"
   ]
  },
  {
   "cell_type": "markdown",
   "metadata": {},
   "source": [
    "### Using Variables in Math\n",
    "\n",
    "We can store the results of math in variables and use variables in calculations:"
   ]
  },
  {
   "cell_type": "code",
   "execution_count": null,
   "metadata": {},
   "outputs": [],
   "source": [
    "# Using variables with math\n",
    "length = 10\n",
    "width = 5\n",
    "area = length * width\n",
    "\n",
    "print(f\"A rectangle with length {length} and width {width} has an area of {area}\")\n",
    "\n",
    "# Calculate a student's grade\n",
    "homework_points = 85\n",
    "test_points = 92\n",
    "total_points = homework_points + test_points\n",
    "average = total_points / 2\n",
    "\n",
    "print(f\"Homework: {homework_points}, Test: {test_points}\")\n",
    "print(f\"Average: {average}\")"
   ]
  },
  {
   "cell_type": "markdown",
   "metadata": {},
   "source": [
    "## Working with Strings: Text Operations\n",
    "\n",
    "Strings aren't just for storing text - you can manipulate them in many ways!"
   ]
  },
  {
   "cell_type": "code",
   "execution_count": null,
   "metadata": {},
   "outputs": [],
   "source": [
    "# String operations\n",
    "first_name = \"Alex\"\n",
    "last_name = \"Johnson\"\n",
    "\n",
    "# Combining strings (concatenation)\n",
    "full_name = first_name + \" \" + last_name\n",
    "print(f\"Full name: {full_name}\")\n",
    "\n",
    "# String methods - functions that work on strings\n",
    "print(f\"Uppercase: {full_name.upper()}\")\n",
    "print(f\"Lowercase: {full_name.lower()}\")\n",
    "print(f\"Length: {len(full_name)} characters\")\n",
    "\n",
    "# Repeating strings\n",
    "excitement = \"!\" * 3\n",
    "print(f\"Hooray{excitement}\")"
   ]
  },
  {
   "cell_type": "markdown",
   "metadata": {},
   "source": [
    "## Getting Input from Users\n",
    "\n",
    "Programs are more interesting when they can interact with users!"
   ]
  },
  {
   "cell_type": "code",
   "execution_count": null,
   "metadata": {},
   "outputs": [],
   "source": [
    "# Getting input from the user\n",
    "# Note: This works best when running as a script, but we can try it here\n",
    "\n",
    "name = input(\"What is your name? \")\n",
    "print(f\"Nice to meet you, {name}!\")\n",
    "\n",
    "# Converting input to numbers\n",
    "age_text = input(\"How old are you? \")\n",
    "age_number = int(age_text)  # Convert string to integer\n",
    "next_year = age_number + 1\n",
    "print(f\"Next year you will be {next_year} years old!\")"
   ]
  },
  {
   "cell_type": "markdown",
   "metadata": {},
   "source": [
    "## Understanding Errors (Don't Panic!)\n",
    "\n",
    "Errors are a normal part of programming. Let's learn about common ones:"
   ]
  },
  {
   "cell_type": "code",
   "execution_count": null,
   "metadata": {},
   "outputs": [],
   "source": [
    "# Common errors and how to fix them\n",
    "\n",
    "# NameError - using a variable that doesn't exist\n",
    "# print(undefined_variable)  # This would cause an error\n",
    "# Fix: Make sure you've created the variable first\n",
    "\n",
    "# TypeError - mixing incompatible data types\n",
    "# result = \"5\" + 3  # This would cause an error\n",
    "# Fix: Convert types or use the same type\n",
    "result = int(\"5\") + 3\n",
    "print(f\"Converted string to number: {result}\")\n",
    "\n",
    "# SyntaxError - incorrect Python syntax\n",
    "# print(\"Missing closing quote)  # This would cause an error\n",
    "# Fix: Check for matching quotes, parentheses, etc.\n",
    "print(\"Proper syntax with matching quotes\")"
   ]
  },
  {
   "cell_type": "markdown",
   "metadata": {},
   "source": [
    "## Practice Exercises\n",
    "\n",
    "Now it's your turn! Try these exercises to practice what you've learned.\n",
    "\n",
    "### Exercise 1: Personal Information Calculator\n",
    "Create variables for your birth year and the current year. Calculate and print your age."
   ]
  },
  {
   "cell_type": "code",
   "execution_count": null,
   "metadata": {},
   "outputs": [],
   "source": [
    "# Exercise 1: Calculate your age\n",
    "# Write your code here"
   ]
  },
  {
   "cell_type": "markdown",
   "metadata": {},
   "source": [
    "### Exercise 2: String Manipulation\n",
    "Create variables for your first name and last name. Print them in different formats:\n",
    "- All uppercase\n",
    "- All lowercase  \n",
    "- First letter of each name capitalized\n",
    "- Count the total letters in your full name"
   ]
  },
  {
   "cell_type": "code",
   "execution_count": null,
   "metadata": {},
   "outputs": [],
   "source": [
    "# Exercise 2: String manipulation\n",
    "# Write your code here"
   ]
  },
  {
   "cell_type": "markdown",
   "metadata": {},
   "source": [
    "### Exercise 3: Math and Variables\n",
    "Create a simple calculator that:\n",
    "- Stores two numbers in variables\n",
    "- Performs all basic math operations (+, -, *, /)\n",
    "- Prints the results in a nice format"
   ]
  },
  {
   "cell_type": "code",
   "execution_count": null,
   "metadata": {},
   "outputs": [],
   "source": [
    "# Exercise 3: Simple calculator\n",
    "# Write your code here"
   ]
  },
  {
   "cell_type": "markdown",
   "metadata": {},
   "source": [
    "## Type Checking: The `type()` Function\n",
    "\n",
    "Python can tell you what type of data you're working with:"
   ]
  },
  {
   "cell_type": "code",
   "execution_count": null,
   "metadata": {},
   "outputs": [],
   "source": [
    "# Check the type of variables\n",
    "name = \"Alice\"\n",
    "age = 25\n",
    "height = 5.6\n",
    "is_student = True\n",
    "\n",
    "print(f\"name is type: {type(name)}\")\n",
    "print(f\"age is type: {type(age)}\")\n",
    "print(f\"height is type: {type(height)}\")\n",
    "print(f\"is_student is type: {type(is_student)}\")\n",
    "\n",
    "# This is helpful for debugging!"
   ]
  },
  {
   "cell_type": "markdown",
   "metadata": {},
   "source": [
    "## Key Takeaways\n",
    "\n",
    "🐍 **Python uses simple, readable syntax** - it's designed to be understood by humans\n",
    "\n",
    "📦 **Variables store information** so we can use it later and make our code flexible\n",
    "\n",
    "🔢 **Data types matter** - strings, integers, floats, and booleans each have their purpose\n",
    "\n",
    "➕ **Python is a great calculator** - it can handle basic math and much more\n",
    "\n",
    "🔤 **Strings are powerful** - you can manipulate text in many ways\n",
    "\n",
    "❌ **Errors are normal** - read them carefully, they're trying to help you\n",
    "\n",
    "🎯 **Practice makes perfect** - the more you code, the more natural it becomes\n",
    "\n",
    "---\n",
    "\n",
    "Excellent work! You've learned the fundamental building blocks of Python programming. In the next module, you'll put these concepts to work by building your first complete programs and creating visual graphics! 🚀"
   ]
  }
 ],
 "metadata": {
  "kernelspec": {
   "display_name": "Python 3",
   "language": "python",
   "name": "python3"
  },
  "language_info": {
   "codemirror_mode": {
    "name": "ipython",
    "version": 3
   },
   "file_extension": ".py",
   "mimetype": "text/x-python",
   "name": "python",
   "nbconvert_exporter": "python",
   "pygments_lexer": "ipython3",
   "version": "3.12.2"
  }
 },
 "nbformat": 4,
 "nbformat_minor": 2
}
