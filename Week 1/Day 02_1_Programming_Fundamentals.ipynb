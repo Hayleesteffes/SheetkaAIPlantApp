{
 "cells": [
  {
   "cell_type": "markdown",
   "metadata": {},
   "source": [
    "# Programming Fundamentals with Turtle Graphics\n",
    "## Session 1 - Day Two\n",
    "\n",
    "**Welcome back!** Today we're going to dive deeper into programming by learning the fundamental building blocks that make programs powerful: variables, conditionals, and loops. We'll explore all of these concepts using turtle graphics to make learning visual and engaging.\n",
    "\n",
    "### What We'll Learn Today:\n",
    "1. **Variables & Data Types** - Storing and reusing information\n",
    "2. **Conditional Logic** - Making decisions in our programs\n",
    "3. **Loops & Patterns** - Repeating actions efficiently\n",
    "\n",
    "Let's get started!"
   ]
  },
  {
   "cell_type": "markdown",
   "metadata": {},
   "source": [
    "## Part 1: Variables & Data Types (25 minutes)\n",
    "\n",
    "### What are Variables?\n",
    "Variables are like labeled boxes that store information we want to use later. Instead of typing the same value over and over, we can store it in a variable and reuse it.\n",
    "\n",
    "### Types of Data We'll Use:\n",
    "- **Numbers** (integers and floats) - for coordinates, distances, angles\n",
    "- **Strings** - for colors, text\n",
    "- **Booleans** - for True/False decisions"
   ]
  },
  {
   "cell_type": "code",
   "execution_count": null,
   "metadata": {},
   "outputs": [],
   "source": [
    "# Let's start by importing turtle. It will be easier to copy these cells into a script.\n",
    "import turtle\n",
    "\n",
    "# Create our turtle and screen\n",
    "screen = turtle.Screen()\n",
    "screen.bgcolor(\"lightblue\")\n",
    "screen.setup(800, 600)\n",
    "\n",
    "alex = turtle.Turtle()\n",
    "alex.speed(3)"
   ]
  },
  {
   "cell_type": "markdown",
   "metadata": {},
   "source": [
    "### Using Variables with Turtle"
   ]
  },
  {
   "cell_type": "code",
   "execution_count": null,
   "metadata": {},
   "outputs": [],
   "source": [
    "# Instead of hard-coding values, let's use variables!\n",
    "\n",
    "# Numbers for movement and size\n",
    "square_size = 100\n",
    "turn_angle = 90\n",
    "pen_thickness = 3\n",
    "\n",
    "# Strings for colors\n",
    "pen_color = \"red\"\n",
    "fill_color = \"yellow\"\n",
    "\n",
    "# Set up our turtle with these variables\n",
    "alex.color(pen_color, fill_color)\n",
    "alex.pensize(pen_thickness)\n",
    "\n",
    "# Draw a square using our variables\n",
    "alex.begin_fill()\n",
    "for i in range(4):\n",
    "    alex.forward(square_size)\n",
    "    alex.left(turn_angle)\n",
    "alex.end_fill()\n",
    "\n",
    "print(f\"Drew a {pen_color} square with size {square_size}!\")"
   ]
  },
  {
   "cell_type": "markdown",
   "metadata": {},
   "source": [
    "### 🎯 Exercise 1: Your Turn!\n",
    "Create variables for a triangle and draw it. What variables do you need?"
   ]
  },
  {
   "cell_type": "code",
   "execution_count": null,
   "metadata": {},
   "outputs": [],
   "source": [
    "# Your code here - create variables for a triangle\n",
    "alex.clear()  # Clear the screen first\n",
    "\n",
    "# Create your variables\n",
    "triangle_size = # Fill this in\n",
    "triangle_angle = # Fill this in  \n",
    "triangle_color = # Fill this in\n",
    "\n",
    "# Draw your triangle using the variables\n",
    "# Your drawing code here"
   ]
  },
  {
   "cell_type": "markdown",
   "metadata": {},
   "source": [
    "## Part 2: Conditional Logic with Turtle (30 minutes)\n",
    "\n",
    "### Making Decisions in Code\n",
    "Conditionals let our programs make decisions. We use `if`, `elif`, and `else` to create different behaviors based on different conditions.\n",
    "\n",
    "### Basic Conditional Structure:\n",
    "```python\n",
    "if condition:\n",
    "    # do this\n",
    "elif other_condition:\n",
    "    # do this instead\n",
    "else:\n",
    "    # do this if nothing else matches\n",
    "```"
   ]
  },
  {
   "cell_type": "code",
   "execution_count": null,
   "metadata": {},
   "outputs": [],
   "source": [
    "# Let's create a drawing that changes based on user input\n",
    "alex.clear()\n",
    "\n",
    "# Get input from user\n",
    "shape_choice = input(\"What shape do you want? (circle, square, triangle): \").lower()\n",
    "\n",
    "# Use conditionals to draw different shapes\n",
    "if shape_choice == \"circle\":\n",
    "    alex.color(\"blue\")\n",
    "    alex.circle(50)\n",
    "    print(\"Drew a beautiful blue circle!\")\n",
    "    \n",
    "elif shape_choice == \"square\":\n",
    "    alex.color(\"red\")\n",
    "    for i in range(4):\n",
    "        alex.forward(100)\n",
    "        alex.left(90)\n",
    "    print(\"Drew a rad red square!\")\n",
    "    \n",
    "elif shape_choice == \"triangle\":\n",
    "    alex.color(\"green\")\n",
    "    for i in range(3):\n",
    "        alex.forward(100)\n",
    "        alex.left(120)\n",
    "    print(\"Drew a terrific green triangle!\")\n",
    "    \n",
    "else:\n",
    "    alex.color(\"purple\")\n",
    "    alex.write(\"I don't know that shape!\", font=(\"Arial\", 16, \"normal\"))\n",
    "    print(\"That's not a shape I know how to draw.\")"
   ]
  },
  {
   "cell_type": "markdown",
   "metadata": {},
   "source": [
    "### More Complex Conditionals"
   ]
  },
  {
   "cell_type": "code",
   "execution_count": null,
   "metadata": {},
   "outputs": [],
   "source": [
    "# Let's create a drawing that responds to numbers\n",
    "alex.clear()\n",
    "\n",
    "# Get a number from the user\n",
    "number = int(input(\"Give me a number between 1 and 10: \"))\n",
    "\n",
    "# Different behaviors based on the number\n",
    "if number < 1 or number > 10:\n",
    "    alex.color(\"red\")\n",
    "    alex.write(\"That's not between 1 and 10!\", font=(\"Arial\", 14, \"normal\"))\n",
    "    \n",
    "elif number <= 3:\n",
    "    alex.color(\"green\")\n",
    "    alex.circle(number * 10)  # Small circles\n",
    "    alex.write(f\"Small circle for {number}\", font=(\"Arial\", 12, \"normal\"))\n",
    "    \n",
    "elif number <= 7:\n",
    "    alex.color(\"blue\")\n",
    "    for i in range(number):  # Draw a polygon with 'number' sides\n",
    "        alex.forward(50)\n",
    "        alex.left(360 / number)\n",
    "    alex.backward(100)\n",
    "    alex.write(f\"{number}-sided polygon\", font=(\"Arial\", 12, \"normal\"))\n",
    "    \n",
    "else:  # 8, 9, or 10\n",
    "    alex.color(\"purple\")\n",
    "    for i in range(number):\n",
    "        alex.forward(80)\n",
    "        alex.backward(80)\n",
    "        alex.left(360 / number)\n",
    "    alex.forward(100)\n",
    "    alex.write(f\"Star burst with {number} rays!\", font=(\"Arial\", 12, \"normal\"))"
   ]
  },
  {
   "cell_type": "markdown",
   "metadata": {},
   "source": [
    "### 🎯 Exercise 2: Color Chooser\n",
    "Create a program that asks for a color and draws something different based on the color choice."
   ]
  },
  {
   "cell_type": "code",
   "execution_count": null,
   "metadata": {},
   "outputs": [],
   "source": [
    "# Your color chooser program here\n",
    "alex.clear()\n",
    "\n",
    "# Get color from user\n",
    "favorite_color = input(\"What's your favorite color? \").lower()\n",
    "\n",
    "# Create different drawings for different colors\n",
    "# Your code here!"
   ]
  },
  {
   "cell_type": "markdown",
   "metadata": {},
   "source": [
    "## Part 3: Loops & Patterns (30 minutes)\n",
    "\n",
    "### The Power of Repetition\n",
    "Loops let us repeat actions without writing the same code over and over. There are two main types:\n",
    "- **For loops** - repeat a specific number of times\n",
    "- **While loops** - repeat while a condition is true\n",
    "\n",
    "### For Loops with Turtle"
   ]
  },
  {
   "cell_type": "code",
   "execution_count": null,
   "metadata": {},
   "outputs": [],
   "source": [
    "# Simple pattern with for loops\n",
    "alex.clear()\n",
    "alex.speed(6)\n",
    "\n",
    "# Draw a spiral square\n",
    "colors = [\"red\", \"orange\", \"yellow\", \"green\", \"blue\", \"purple\"]\n",
    "\n",
    "for i in range(50):\n",
    "    alex.color(colors[i % len(colors)])  # Cycle through colors\n",
    "    alex.forward(i * 2)  # Distance increases each time\n",
    "    alex.left(91)  # Slightly more than 90 degrees creates spiral"
   ]
  },
  {
   "cell_type": "code",
   "execution_count": null,
   "metadata": {},
   "outputs": [],
   "source": [
    "# Nested loops for complex patterns\n",
    "alex.clear()\n",
    "alex.speed(8)\n",
    "\n",
    "# Draw multiple stars in a circle\n",
    "number_of_stars = 8\n",
    "\n",
    "for star in range(number_of_stars):\n",
    "    # Draw one star\n",
    "    alex.color(colors[star % len(colors)])\n",
    "    \n",
    "    for point in range(5):  # 5 points for each star\n",
    "        alex.forward(50)\n",
    "        alex.backward(50)\n",
    "        alex.left(72)  # 360/5 = 72 degrees\n",
    "    \n",
    "    # Move to position for next star\n",
    "    alex.left(360 / number_of_stars)\n",
    "    alex.penup()\n",
    "    alex.forward(100)\n",
    "    alex.pendown()"
   ]
  },
  {
   "cell_type": "markdown",
   "metadata": {},
   "source": [
    "### While Loops with Turtle"
   ]
  },
  {
   "cell_type": "code",
   "execution_count": null,
   "metadata": {},
   "outputs": [],
   "source": [
    "# While loop example - draw until we reach a boundary\n",
    "alex.clear()\n",
    "alex.speed(5)\n",
    "\n",
    "# Start at the center\n",
    "alex.goto(0, 0)\n",
    "alex.setheading(45)  # Point northeast\n",
    "\n",
    "# Draw until we get close to the edge\n",
    "distance = 10\n",
    "colors_cycle = [\"red\", \"orange\", \"yellow\", \"green\", \"blue\", \"purple\"]\n",
    "color_index = 0\n",
    "\n",
    "while alex.xcor() < 300 and alex.ycor() < 200:  # Stay within bounds\n",
    "    alex.color(colors_cycle[color_index % len(colors_cycle)])\n",
    "    alex.forward(distance)\n",
    "    alex.left(30)\n",
    "    distance += 2  # Each step gets bigger\n",
    "    color_index += 1\n",
    "\n",
    "alex.write(\"Reached the boundary!\", font=(\"Arial\", 12, \"normal\"))"
   ]
  },
  {
   "cell_type": "markdown",
   "metadata": {},
   "source": [
    "### 🎯 Exercise 3: Create Your Own Pattern\n",
    "Use loops to create an interesting geometric pattern. Try combining for loops and while loops!"
   ]
  },
  {
   "cell_type": "code",
   "execution_count": null,
   "metadata": {},
   "outputs": [],
   "source": [
    "# Your pattern creation here\n",
    "alex.clear()\n",
    "alex.speed(8)\n",
    "\n",
    "# Create your own amazing pattern!\n",
    "# Ideas:\n",
    "# - Concentric circles of different colors\n",
    "# - A spiral that changes colors\n",
    "# - Multiple shapes arranged in a circle\n",
    "# - A pattern that grows outward from the center\n",
    "\n",
    "# Your creative code here!"
   ]
  },
  {
   "cell_type": "markdown",
   "metadata": {},
   "source": [
    "## Bringing It All Together\n",
    "\n",
    "Let's create one final example that combines variables, conditionals, and loops:"
   ]
  },
  {
   "cell_type": "code",
   "execution_count": null,
   "metadata": {},
   "outputs": [],
   "source": [
    "# Interactive pattern generator\n",
    "alex.clear()\n",
    "alex.speed(8)\n",
    "\n",
    "# Get user preferences\n",
    "pattern_type = input(\"Choose a pattern (spiral, flower, geometric): \").lower()\n",
    "num_elements = int(input(\"How many elements (5-20)? \"))\n",
    "main_color = input(\"What's your favorite color? \").lower()\n",
    "\n",
    "# Set up variables based on input\n",
    "if pattern_type == \"spiral\":\n",
    "    angle_increment = 10\n",
    "    distance_increment = 3\n",
    "elif pattern_type == \"flower\":\n",
    "    angle_increment = 360 / num_elements\n",
    "    distance_increment = 0\n",
    "else:  # geometric\n",
    "    angle_increment = 360 / num_elements\n",
    "    distance_increment = 2\n",
    "\n",
    "# Validate number of elements\n",
    "if num_elements < 5:\n",
    "    num_elements = 5\n",
    "elif num_elements > 20:\n",
    "    num_elements = 20\n",
    "\n",
    "# Create the pattern\n",
    "alex.color(main_color)\n",
    "\n",
    "if pattern_type == \"spiral\":\n",
    "    distance = 5\n",
    "    for i in range(num_elements * 3):\n",
    "        alex.forward(distance)\n",
    "        alex.left(angle_increment)\n",
    "        distance += distance_increment\n",
    "        \n",
    "elif pattern_type == \"flower\":\n",
    "    for petal in range(num_elements):\n",
    "        alex.circle(30)\n",
    "        alex.left(angle_increment)\n",
    "        \n",
    "else:  # geometric\n",
    "    size = 20\n",
    "    for shape in range(num_elements):\n",
    "        # Draw a small polygon\n",
    "        for side in range(6):  # hexagon\n",
    "            alex.forward(size)\n",
    "            alex.left(60)\n",
    "        \n",
    "        # Move to next position\n",
    "        alex.left(angle_increment)\n",
    "        alex.penup()\n",
    "        alex.forward(size * 2)\n",
    "        alex.pendown()\n",
    "        size += distance_increment\n",
    "\n",
    "print(f\"Created a beautiful {main_color} {pattern_type} with {num_elements} elements!\")"
   ]
  },
  {
   "cell_type": "markdown",
   "metadata": {},
   "source": [
    "## Wrap-up & Preview (5 minutes)\n",
    "\n",
    "### What We Learned Today:\n",
    "✅ **Variables** - Store and reuse values to make our code flexible  \n",
    "✅ **Conditionals** - Make decisions to create dynamic, responsive programs  \n",
    "✅ **Loops** - Repeat actions efficiently to create complex patterns  \n",
    "\n",
    "### Key Programming Concepts:\n",
    "- Variables make our code reusable and easier to modify\n",
    "- Conditionals let programs respond differently to different inputs\n",
    "- Loops help us avoid repetitive code and create complex patterns\n",
    "- Combining these concepts creates powerful, flexible programs\n",
    "\n",
    "### Coming Up Next Session:\n",
    "🚀 **Functions and Turtle Challenge Workshop**  \n",
    "- Learn to create reusable functions\n",
    "- Build your own toolkit of drawing functions\n",
    "- Take on creative turtle challenges\n",
    "- Create interactive turtle art and games\n",
    "\n",
    "Great work today! You're building the fundamental skills that all programmers use every day. See you next session for some amazing turtle challenges! 🐢"
   ]
  },
  {
   "cell_type": "code",
   "execution_count": null,
   "metadata": {},
   "outputs": [],
   "source": [
    "# Clean up\n",
    "screen.exitonclick()"
   ]
  }
 ],
 "metadata": {
  "language_info": {
   "name": "python"
  }
 },
 "nbformat": 4,
 "nbformat_minor": 2
}
