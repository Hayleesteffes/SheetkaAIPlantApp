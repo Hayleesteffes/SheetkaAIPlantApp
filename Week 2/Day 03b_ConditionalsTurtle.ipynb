{
 "cells": [
  {
   "cell_type": "markdown",
   "id": "3e014f20",
   "metadata": {},
   "source": [
    "# Booleans and Conditionals\n",
    "\n",
    "This lesson was remixed from the lessons at: https://github.com/dlab-berkeley/Python-Fundamentals under the `Creative Commons Attribution-NonCommercial 4.0 International Public License` License\n",
    "\n",
    "**Learning Objectives**:\n",
    "\n",
    "- Introduce the **Boolean** type.\n",
    "- Define and understand conditional statements.\n",
    "- Understand the use of `if`, `else`, and `elif`.\n",
    "- Use a conditional inside of a loop.\n",
    "* * * * *"
   ]
  },
  {
   "cell_type": "markdown",
   "id": "fb5c2801",
   "metadata": {},
   "source": [
    "## The Boolean Data Type\n",
    "\n",
    "**Booleans** are a fundamental data type in programming. Booleans are varibles that are **binary**: they can either be `True` or `False`.\n",
    "\n",
    "Why do we use these? They're very useful for **control flow**: changing the course of a program depending on certain conditions. For example, we might make different decisions on what computation to perform based on the current state of the data, user preferences, etc. Booleans allow decision making in these contexts.\n",
    "\n",
    "In Python, `True` and `False` are written with capital letters, and usually colored green in Jupyter notebooks:"
   ]
  },
  {
   "cell_type": "code",
   "execution_count": null,
   "id": "2dad7979",
   "metadata": {},
   "outputs": [],
   "source": [
    "yes = True\n",
    "no = False"
   ]
  },
  {
   "cell_type": "markdown",
   "id": "8b578c23",
   "metadata": {},
   "source": [
    "Booleans are commonly seen in the results of inequalities. Predict the outcome of the inequalities printed below, then run the code.\n",
    "\n",
    "**Note:** Equality is signaled in Python (and many other languages) by the double equals sign `==`. This is distinct from the **assignment operator** (single equals sign `=`) used in variable assignment (e.g. `year = 1996`)"
   ]
  },
  {
   "cell_type": "code",
   "execution_count": null,
   "id": "76d3ea45",
   "metadata": {},
   "outputs": [],
   "source": [
    "# Greater than \n",
    "print(\"Is 3 > 5?\", 3 > 5)\n",
    "\n",
    "# Less than\n",
    "print(\"Is 3 < 5?\", 3 < 5)\n",
    "\n",
    "# Exactly equal to\n",
    "print(\"Is ice == ice?\", 'ice' == 'ice')"
   ]
  },
  {
   "cell_type": "markdown",
   "id": "362331bc",
   "metadata": {},
   "source": [
    "You can also specify *not* using the `!` operator:"
   ]
  },
  {
   "cell_type": "code",
   "execution_count": null,
   "id": "ac9c855d",
   "metadata": {},
   "outputs": [],
   "source": [
    "print(\"Is ice != water?\", 'ice' != 'water')"
   ]
  },
  {
   "cell_type": "markdown",
   "id": "4e8e4456",
   "metadata": {},
   "source": [
    "Furthermore, you can *negate* a Boolean expression with the keyword `not`. Predit the outcomes for the examples below:\n",
    "\n",
    "**Hint:** Recall `yes=True` and `no=False`."
   ]
  },
  {
   "cell_type": "code",
   "execution_count": null,
   "id": "e7af650b",
   "metadata": {},
   "outputs": [],
   "source": [
    "print(yes)\n",
    "print(not yes)"
   ]
  },
  {
   "cell_type": "markdown",
   "id": "12134772",
   "metadata": {},
   "source": [
    "**Note**: Comparisons for strings are based on alphanumeric order: numbers first, then capital letters, followed by lowercase letters."
   ]
  },
  {
   "cell_type": "markdown",
   "id": "58e58d67",
   "metadata": {},
   "source": [
    "The operators `and` and `or` can also be used to compare Boolean values with logic. What do each of the following statements do?"
   ]
  },
  {
   "cell_type": "code",
   "execution_count": null,
   "id": "14d44c8f",
   "metadata": {},
   "outputs": [],
   "source": [
    "a = True\n",
    "b = False\n",
    "\n",
    "print(a and b)\n",
    "\n",
    "print(a or b)"
   ]
  },
  {
   "cell_type": "markdown",
   "id": "08e7df45",
   "metadata": {},
   "source": [
    "Notice that when you are combining Boolean expressions, parentheses are used to indicate order of evaluation. The innermost parentheses are evaluated first, then the later ones. For example, compare the two lines below. \n",
    "\n",
    "**Question:** Why are the outputs different? Write the order of evaluation for each line below.\n"
   ]
  },
  {
   "cell_type": "code",
   "execution_count": null,
   "id": "14e03850",
   "metadata": {},
   "outputs": [],
   "source": [
    "print(not (a and b))\n",
    "\n",
    "print(not a and b)"
   ]
  },
  {
   "cell_type": "markdown",
   "id": "1ec34b7a",
   "metadata": {},
   "source": [
    "## Challenge 1: Boolean Errors\n",
    "\n",
    "1) The following cell gives error(s). Identify each error and how to fix it. \n",
    "\n",
    "2) What is the output of the cell?"
   ]
  },
  {
   "cell_type": "code",
   "execution_count": null,
   "id": "569d90bc",
   "metadata": {},
   "outputs": [],
   "source": [
    "number_of_trees = 14\n",
    "number_of_shrubs = 8\n",
    "has_flowers = TRUE\n",
    "\n",
    "print((number_of_trees > 14) and (number_of_trees = number_of_shrubs) or not (has_flowers))"
   ]
  },
  {
   "cell_type": "markdown",
   "id": "731a6473",
   "metadata": {},
   "source": [
    "## Conditionals: If-Statements\n",
    "\n",
    "A fundamental structure in programming is the **conditional**. These blocks allow different blocks of code to run, *conditional* on specific things being true.\n",
    "\n",
    "The most widely used conditional is the **if-statement**. An if-statement controls whether some block of code is executed or not. Its structure is similar to that of a for loop: \n",
    "\n",
    "*   The first line opens with the `if` keyword and contains a Boolean variable or expression. It ends with a colon. If the expression evaluates to `True`, the block of code will run.\n",
    "*   The body, containing whatever code to execute if the condition is met, is indented.\n",
    "\n",
    "So, if the Boolean expression is `True`, the body of an if-statement is run. If not, it's skipped. Let's look at an example:"
   ]
  },
  {
   "cell_type": "code",
   "execution_count": null,
   "id": "4b4d2e5e",
   "metadata": {},
   "outputs": [],
   "source": [
    "number = 105\n",
    "\n",
    "# Body is executed\n",
    "if number > 100:\n",
    "    print(number, 'is greater than 100.')\n",
    "\n",
    "# Body is not executed\n",
    "if number > 110:\n",
    "    print(number, 'is greater than 110.')"
   ]
  },
  {
   "cell_type": "markdown",
   "id": "13a2598e",
   "metadata": {},
   "source": [
    "## Conditionals and Loops\n",
    "\n",
    "Conditionals are particularly useful when we're iterating through a list, and want to perform some operation only on specific components of that list that satisfy a certain condition.\n",
    "\n",
    "**Question:** what will the output of the following code be?"
   ]
  },
  {
   "cell_type": "code",
   "execution_count": null,
   "id": "51e71949",
   "metadata": {},
   "outputs": [],
   "source": [
    "numbers = [12, 20, 43, 88, 97, 100, 105, 110]\n",
    "\n",
    "for number in numbers:\n",
    "    if number > 100:\n",
    "        print(number, 'is greater than 100.')"
   ]
  },
  {
   "cell_type": "markdown",
   "id": "47deefb0",
   "metadata": {},
   "source": [
    "## Conditionals: Else-statements\n",
    "\n",
    "Else-statements supplement if-statements. They allow us to specify an alternative block of code to run if the if-statement's conditional evaluates to `False`.\n",
    "\n",
    "**Question:** What is the difference between the following cell and the previous if statement. How will that affect the output?"
   ]
  },
  {
   "cell_type": "code",
   "execution_count": null,
   "id": "90d5aab3",
   "metadata": {},
   "outputs": [],
   "source": [
    "numbers = [12, 20, 43, 88, 97, 100, 105, 110]\n",
    "\n",
    "for number in numbers:\n",
    "    if number > 100:\n",
    "        print(number, 'is greater than 100.')\n",
    "    else:\n",
    "        print(number, 'is less than or equal to 100.')"
   ]
  },
  {
   "cell_type": "markdown",
   "id": "4419658f",
   "metadata": {},
   "source": [
    "## Conditionals: Else-if Statements\n",
    "\n",
    "We may want to check several conditionals at the same time. Else-if (Elif-) statements allow us to specify as many conditional checks as we'd like in the same block.\n",
    "\n",
    "Elif-statements must follow an if-statement. They only are checked if the if-statement fails. Then, each elif-statement is checked, with their corresponding bodies run when the conditional evaluates to `True`.\n",
    "\n",
    "An else statement at the end can act as a \"catch all\", when the if statement and all following else-if statements fail.\n",
    "\n",
    "In Python, else if statements are indicated by the `elif` keyword. Consider the following conditional cell."
   ]
  },
  {
   "cell_type": "code",
   "execution_count": null,
   "id": "0c2b4815",
   "metadata": {},
   "outputs": [],
   "source": [
    "numbers = [12, 20, 43, 88, 97, 100, 105, 110]\n",
    "\n",
    "for number in numbers:\n",
    "    if number > 100:\n",
    "        print(number, 'is greater than 100.')\n",
    "    elif number > 50:\n",
    "        print(number, 'is greater than 50.')\n",
    "    elif number > 25:\n",
    "        print(number, 'is greater than 25.')\n",
    "    else:\n",
    "        print(number, 'is less than or equal to 25.')"
   ]
  },
  {
   "cell_type": "markdown",
   "id": "5b804a3e",
   "metadata": {},
   "source": [
    "## Challenge 2: Conditionals Practice\n",
    "\n",
    "The `scores` list contains numeric grades that we'd like to assign letter grades to.\n",
    "\n",
    "Run the code. Does the result match your expectations? If not, why?\n",
    "\n",
    "Consider:\n",
    "1. How many 'A' grades do you expect based on the input? How many are in the output?\n",
    "2. Are there multiple outputs per score? \n",
    "3. Are the scores assigned the correct letter grades?"
   ]
  },
  {
   "cell_type": "code",
   "execution_count": null,
   "id": "d0aacf38",
   "metadata": {},
   "outputs": [],
   "source": [
    "scores = [85, 99, 77,68]\n",
    "\n",
    "for score in scores:\n",
    "    if score >= 80:\n",
    "        print(score, 'is a B.')\n",
    "    elif score >= 90:\n",
    "        print(score, 'is an A.')\n",
    "    if score >= 70:\n",
    "        print(score, 'is a C.')\n",
    "    else:\n",
    "        print(score, 'is a D.')"
   ]
  },
  {
   "cell_type": "markdown",
   "id": "e14c026f",
   "metadata": {},
   "source": [
    "The order of the if and elif statements matters. When one if/elif statement is met, all following statements are skipped.  If there are multiple if statements, then each statement is evaluated separately. These kinds of errors won't give errors in the code, but they will give results that might not make sense, which can take longer to find and debug."
   ]
  },
  {
   "cell_type": "markdown",
   "id": "b5975b45",
   "metadata": {},
   "source": [
    "## Challenge 3: Conditionals and Aggregation\n",
    "Below, we've created a list of US Presidents. Create a a new list containing all Presidents whose first name starts with the letter J. How many presidents are on this list?\n",
    "\n",
    "**Hint:** The `.split()` string function will be useful for this. Also, remember that strings are indexed: you can access any character of the string using bracket notation!"
   ]
  },
  {
   "cell_type": "code",
   "execution_count": null,
   "id": "f35887fd",
   "metadata": {},
   "outputs": [],
   "source": [
    "presidents = [\n",
    "    \"George Washington\",\n",
    "    \"John Adams\",\n",
    "    \"Thomas Jefferson\",\n",
    "    \"James Madison\",\n",
    "    \"James Monroe\",\n",
    "    \"John Quincy Adams\",\n",
    "    \"Andrew Jackson\",\n",
    "    \"Martin Van Buren\",\n",
    "    \"William Henry Harrison\",\n",
    "    \"John Tyler\",\n",
    "    \"James K. Polk\",\n",
    "    \"Zachary Taylor\",\n",
    "    \"Millard Fillmore\",\n",
    "    \"Franklin Pierce\",\n",
    "    \"James Buchanan\",\n",
    "    \"Abraham Lincoln\",\n",
    "    \"Andrew Johnson\",\n",
    "    \"Ulysses S. Grant\",\n",
    "    \"Rutherford B. Hayes\",\n",
    "    \"James A. Garfield\",\n",
    "    \"Chester A. Arthur\",\n",
    "    \"Grover Cleveland\",\n",
    "    \"Benjamin Harrison\",\n",
    "    \"Grover Cleveland\",\n",
    "    \"William McKinley\",\n",
    "    \"Theodore Roosevelt\",\n",
    "    \"William Howard Taft\",\n",
    "    \"Woodrow Wilson\",\n",
    "    \"Warren G. Harding\",\n",
    "    \"Calvin Coolidge\",\n",
    "    \"Herbert Hoover\",\n",
    "    \"Franklin D. Roosevelt\",\n",
    "    \"Harry S. Truman\",\n",
    "    \"Dwight D. Eisenhower\",\n",
    "    \"John F. Kennedy\",\n",
    "    \"Lyndon B. Johnson\",\n",
    "    \"Richard Nixon\",\n",
    "    \"Gerald Ford\",\n",
    "    \"Jimmy Carter\",\n",
    "    \"Ronald Reagan\",\n",
    "    \"George H. W. Bush\",\n",
    "    \"Bill Clinton\",\n",
    "    \"George W. Bush\",\n",
    "    \"Barack Obama\",\n",
    "    \"Donald Trump\",\n",
    "    \"Joe Biden\"]"
   ]
  },
  {
   "cell_type": "code",
   "execution_count": null,
   "id": "d5670db6",
   "metadata": {},
   "outputs": [],
   "source": [
    "last_name_b = ___\n",
    "for p in presidents:\n",
    "    if ___\n",
    "        ____.append(___)\n",
    "print(last_name_b)"
   ]
  },
  {
   "cell_type": "markdown",
   "id": "09bb8e68",
   "metadata": {},
   "source": [
    "## Challenge 4: Control a Turtle with Booleans and Conditionals\n",
    "\n",
    "Let's give ourselves the ability to control our turtle from user input! We'll start simple and make it more complex as we go.\n",
    "\n",
    "In this first cell, create three separate variables with values that are either \"left\" or \"right\". Then, have your turtle move some amount and turn 90 degrees in alignment with your instructions."
   ]
  },
  {
   "cell_type": "code",
   "execution_count": null,
   "id": "49121aaa",
   "metadata": {},
   "outputs": [],
   "source": [
    "from mobilechelonian import Turtle\n",
    "\n",
    "# Reminder, your turtle will need the commands below. \n",
    "# t.forward(x)\n",
    "# t.left(x) or t.right(x)\n",
    "\n",
    "t = Turtle()\n",
    "# YOUR CODE HERE"
   ]
  },
  {
   "cell_type": "markdown",
   "id": "789ad430",
   "metadata": {},
   "source": [
    "Now, let's use a __for loop__ to allow us to give as many instructions as we want!"
   ]
  },
  {
   "cell_type": "code",
   "execution_count": null,
   "id": "339d3b15",
   "metadata": {},
   "outputs": [],
   "source": [
    "from mobilechelonian import Turtle\n",
    "\n",
    "# Reminder, your turtle will need the commands below. \n",
    "# t.forward(x)\n",
    "# t.left(x) or t.right(x)\n",
    "\n",
    "t = Turtle()\n",
    "\n",
    "instructions = []\n",
    "for instruction in instructions:\n",
    "    # YOUR CODE HERE"
   ]
  },
  {
   "cell_type": "markdown",
   "id": "ee822779",
   "metadata": {},
   "source": [
    "Finally, let's use a __while loop__ and prompt for instructions."
   ]
  },
  {
   "cell_type": "code",
   "execution_count": null,
   "id": "e30aef18",
   "metadata": {},
   "outputs": [],
   "source": [
    "from mobilechelonian import Turtle\n",
    "\n",
    "# Reminder, your turtle will need the commands below. \n",
    "# t.forward(x)\n",
    "# t.left(x) or t.right(x)\n",
    "\n",
    "t = Turtle()\n",
    "\n",
    "while True:\n",
    "    inp = input(\"What would you like your turtle to do?\")\n",
    "    \n",
    "    # YOUR CODE HERE"
   ]
  }
 ],
 "metadata": {
  "language_info": {
   "name": "python"
  }
 },
 "nbformat": 4,
 "nbformat_minor": 5
}
