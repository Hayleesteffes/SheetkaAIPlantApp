{
 "cells": [
  {
   "cell_type": "markdown",
   "id": "27f33398",
   "metadata": {},
   "source": [
    "# Day Two Turtle Challenges\n",
    "\n",
    "You've learned the basics of python programming and now it's time to challenge yourself and make something new! In this directory, you'll find 10 turtle challenges that are meant to test your learning so far AND introduce you to more possibilities with the turtle package itself. You are allowed to use ANY tools that you want in order to complete this challenge. These would include: your partner, the TA's, the instructors, Google, ChatGPT, chat.indigigenius.org, or anything else you can think of. What matters is that you keep moving and ask questions when you get stuck. You agree on which challenge to tackle with your partner (you may need to do the preference of one partner first then the other). You should also plan, on notebook paper or within comments, exactly how you plan to complete the challenges. Good luck! Here's an overview of each challenge.\n",
    "\n",
    "## 🎯 **Beginner Challenges (Variables & Loops)**\n",
    "\n",
    "**Challenge 1: Draw a House** (`challenge_01_draw_house.py`)\n",
    "- Draw a house using variables to control size and colors\n",
    "- Practice: Variables, loops, basic shapes, positioning\n",
    "\n",
    "**Challenge 2: Draw a Spiral** (`challenge_02_spiral.py`)  \n",
    "- Create a spiral that grows outward using loops\n",
    "- Practice: Loops, variables, growing patterns, fill-in-the-blanks\n",
    "\n",
    "**Challenge 3: Draw a Flower** (`challenge_03_flower.py`)\n",
    "- Create a flower with petals using loops and color lists\n",
    "- Practice: Loops, lists, color cycling, modulo operator\n",
    "\n",
    "**Challenge 4: Draw a Simple Tree** (`challenge_04_simple_tree.py`)\n",
    "- Create a tree with branches (simplified from fractal version)\n",
    "- Practice: Loops, conditionals, positioning, turtle directions\n",
    "\n",
    "## 🌟 **Intermediate Challenges (Lists & Patterns)**\n",
    "\n",
    "**Challenge 5: Rainbow Spiral** (`challenge_05_rainbow_spiral.py`)\n",
    "- Create a colorful spiral where each segment is a different color\n",
    "- Practice: Lists, color cycling, spirals, modulo operator\n",
    "\n",
    "**Challenge 6: Concentric Polygons** (`challenge_06_concentric_polygons.py`)\n",
    "- Draw multiple polygons inside each other with different colors\n",
    "- Practice: Nested loops, positioning, variables, lists\n",
    "\n",
    "## 🌟🌟 **Advanced Challenges (Interactive & Complex)**\n",
    "\n",
    "**Challenge 7: Click-to-Draw** (`challenge_07_click_to_draw.py`)\n",
    "- Create art by clicking on the screen (uses some advanced concepts)\n",
    "- Practice: Variables, event handling (advanced preview!)\n",
    "\n",
    "**Challenge 8: Keyboard Art** (`challenge_08_keyboard_art.py`)\n",
    "- Control kheya with keyboard keys to create art (advanced)\n",
    "- Practice: Variables, movement, keyboard events (advanced preview!)\n",
    "\n",
    "## 🌟🌟🌟 **Expert Challenges (Complete Programs)**\n",
    "\n",
    "**Challenge 9: Pattern Drawing** (`challenge_09_pattern_drawing.py`)\n",
    "- Create a pattern for others to copy, then let them recreate it\n",
    "- Practice: All Day Two concepts combined, creative design\n",
    "\n",
    "**Challenge 10: Turtle Race** (`challenge_10_turtle_race.py`)\n",
    "- Watch kheya race against other turtles with customizable movement\n",
    "- Practice: Lists, loops, conditionals, variables, multiple turtles"
   ]
  }
 ],
 "metadata": {
  "language_info": {
   "name": "python"
  }
 },
 "nbformat": 4,
 "nbformat_minor": 5
}
